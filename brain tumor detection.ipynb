{
 "cells": [
  {
   "cell_type": "code",
   "execution_count": 3,
   "id": "126b2cf6",
   "metadata": {},
   "outputs": [],
   "source": [
    "import numpy as np\n",
    "import tensorflow as tf\n",
    "from keras.preprocessing.image import ImageDataGenerator"
   ]
  },
  {
   "cell_type": "code",
   "execution_count": 4,
   "id": "5f73cc46",
   "metadata": {},
   "outputs": [],
   "source": [
    "# data preprocessing\n"
   ]
  },
  {
   "cell_type": "code",
   "execution_count": 5,
   "id": "1ff7d107",
   "metadata": {},
   "outputs": [],
   "source": [
    "#training image processing"
   ]
  },
  {
   "cell_type": "code",
   "execution_count": 6,
   "id": "b936af18",
   "metadata": {},
   "outputs": [
    {
     "name": "stdout",
     "output_type": "stream",
     "text": [
      "Found 8582 images belonging to 8 classes.\n"
     ]
    }
   ],
   "source": [
    "train_datagen = ImageDataGenerator(\n",
    "      rescale =  1./255,\n",
    "      shear_range = 0.2,\n",
    "      zoom_range = 0.2,\n",
    "      horizontal_flip = True)\n",
    "training = train_datagen.flow_from_directory('training',target_size = (64,64),batch_size = 32,class_mode = 'categorical')"
   ]
  },
  {
   "cell_type": "code",
   "execution_count": 7,
   "id": "903c8ba6",
   "metadata": {},
   "outputs": [],
   "source": [
    "#test image processing\n"
   ]
  },
  {
   "cell_type": "code",
   "execution_count": 8,
   "id": "d8703420",
   "metadata": {},
   "outputs": [
    {
     "name": "stdout",
     "output_type": "stream",
     "text": [
      "Found 1705 images belonging to 8 classes.\n"
     ]
    }
   ],
   "source": [
    "test_datagen = ImageDataGenerator(rescale = 1./255)\n",
    "testing = test_datagen.flow_from_directory('testing',target_size = (64,64),batch_size = 32,class_mode = 'categorical')"
   ]
  },
  {
   "cell_type": "code",
   "execution_count": 9,
   "id": "99e9e723",
   "metadata": {},
   "outputs": [],
   "source": [
    "#building model"
   ]
  },
  {
   "cell_type": "code",
   "execution_count": 10,
   "id": "13ee8da8",
   "metadata": {},
   "outputs": [],
   "source": [
    "cnn = tf.keras.models.Sequential()"
   ]
  },
  {
   "cell_type": "code",
   "execution_count": 11,
   "id": "8e27c9b4",
   "metadata": {},
   "outputs": [],
   "source": [
    "#building convolution layer\n"
   ]
  },
  {
   "cell_type": "code",
   "execution_count": 12,
   "id": "a93c28e3",
   "metadata": {},
   "outputs": [],
   "source": [
    "cnn.add(tf.keras.layers.Conv2D(filters = 64,kernel_size = 3, activation = 'relu', input_shape = [64,64,3]))\n",
    "cnn.add(tf.keras.layers.MaxPool2D(pool_size = 2,strides = 2))"
   ]
  },
  {
   "cell_type": "code",
   "execution_count": 13,
   "id": "1f169975",
   "metadata": {},
   "outputs": [],
   "source": [
    "cnn.add(tf.keras.layers.Conv2D(filters = 64,kernel_size = 3, activation = 'relu'))\n",
    "cnn.add(tf.keras.layers.MaxPool2D(pool_size = 2,strides = 2))"
   ]
  },
  {
   "cell_type": "code",
   "execution_count": 14,
   "id": "7dec1006",
   "metadata": {},
   "outputs": [],
   "source": [
    "cnn.add(tf.keras.layers.Conv2D(filters = 64,kernel_size = 3, activation = 'relu'))\n",
    "cnn.add(tf.keras.layers.MaxPool2D(pool_size = 2,strides = 2))\n"
   ]
  },
  {
   "cell_type": "code",
   "execution_count": 15,
   "id": "16577809",
   "metadata": {},
   "outputs": [],
   "source": [
    "cnn.add(tf.keras.layers.Conv2D(filters = 64,kernel_size = 3, activation = 'relu'))\n",
    "cnn.add(tf.keras.layers.MaxPool2D(pool_size = 2,strides = 2))"
   ]
  },
  {
   "cell_type": "code",
   "execution_count": 16,
   "id": "bde5f9f0",
   "metadata": {},
   "outputs": [],
   "source": [
    "cnn.add(tf.keras.layers.Dropout(0.5))\n"
   ]
  },
  {
   "cell_type": "code",
   "execution_count": 17,
   "id": "c266698f",
   "metadata": {},
   "outputs": [],
   "source": [
    "cnn.add(tf.keras.layers.Flatten())"
   ]
  },
  {
   "cell_type": "code",
   "execution_count": 18,
   "id": "992efe3c",
   "metadata": {},
   "outputs": [],
   "source": [
    "cnn.add(tf.keras.layers.Dense(units = 128 , activation = 'relu'))"
   ]
  },
  {
   "cell_type": "code",
   "execution_count": 19,
   "id": "a1e5092c",
   "metadata": {},
   "outputs": [],
   "source": [
    "cnn.add(tf.keras.layers.Dense(units = 8, activation = 'softmax'))"
   ]
  },
  {
   "cell_type": "code",
   "execution_count": 20,
   "id": "dc27fbd4",
   "metadata": {},
   "outputs": [],
   "source": [
    "cnn.compile(optimizer = 'rmsprop', loss = 'categorical_crossentropy', metrics = ['accuracy'])"
   ]
  },
  {
   "cell_type": "code",
   "execution_count": 21,
   "id": "923e482a",
   "metadata": {},
   "outputs": [
    {
     "name": "stdout",
     "output_type": "stream",
     "text": [
      "Epoch 1/30\n",
      "269/269 [==============================] - 119s 436ms/step - loss: 1.8073 - accuracy: 0.3203 - val_loss: 1.8016 - val_accuracy: 0.4235\n",
      "Epoch 2/30\n",
      "269/269 [==============================] - 113s 422ms/step - loss: 1.4691 - accuracy: 0.4549 - val_loss: 1.7303 - val_accuracy: 0.4921\n",
      "Epoch 3/30\n",
      "269/269 [==============================] - 122s 455ms/step - loss: 1.3146 - accuracy: 0.4948 - val_loss: 1.2935 - val_accuracy: 0.6194\n",
      "Epoch 4/30\n",
      "269/269 [==============================] - 137s 508ms/step - loss: 1.2030 - accuracy: 0.5265 - val_loss: 1.3950 - val_accuracy: 0.6082\n",
      "Epoch 5/30\n",
      "269/269 [==============================] - 132s 490ms/step - loss: 1.1149 - accuracy: 0.5456 - val_loss: 1.6660 - val_accuracy: 0.5701\n",
      "Epoch 6/30\n",
      "269/269 [==============================] - 109s 404ms/step - loss: 1.0415 - accuracy: 0.5613 - val_loss: 1.3949 - val_accuracy: 0.5965\n",
      "Epoch 7/30\n",
      "269/269 [==============================] - 114s 423ms/step - loss: 0.9891 - accuracy: 0.5756 - val_loss: 1.5335 - val_accuracy: 0.6305\n",
      "Epoch 8/30\n",
      "269/269 [==============================] - 107s 396ms/step - loss: 0.9526 - accuracy: 0.5882 - val_loss: 1.2726 - val_accuracy: 0.6563\n",
      "Epoch 9/30\n",
      "269/269 [==============================] - 127s 473ms/step - loss: 0.9178 - accuracy: 0.5924 - val_loss: 2.1855 - val_accuracy: 0.5431\n",
      "Epoch 10/30\n",
      "269/269 [==============================] - 111s 411ms/step - loss: 0.9003 - accuracy: 0.5944 - val_loss: 1.5292 - val_accuracy: 0.6610\n",
      "Epoch 11/30\n",
      "269/269 [==============================] - 107s 397ms/step - loss: 0.8687 - accuracy: 0.6035 - val_loss: 1.1890 - val_accuracy: 0.6639\n",
      "Epoch 12/30\n",
      "269/269 [==============================] - 115s 429ms/step - loss: 0.8572 - accuracy: 0.6086 - val_loss: 1.1108 - val_accuracy: 0.7015\n",
      "Epoch 13/30\n",
      "269/269 [==============================] - 109s 404ms/step - loss: 0.8236 - accuracy: 0.6185 - val_loss: 1.2648 - val_accuracy: 0.6962\n",
      "Epoch 14/30\n",
      "269/269 [==============================] - 108s 402ms/step - loss: 0.8266 - accuracy: 0.6126 - val_loss: 1.2911 - val_accuracy: 0.7009\n",
      "Epoch 15/30\n",
      "269/269 [==============================] - 105s 390ms/step - loss: 0.8055 - accuracy: 0.6182 - val_loss: 1.3102 - val_accuracy: 0.6680\n",
      "Epoch 16/30\n",
      "269/269 [==============================] - 110s 407ms/step - loss: 0.8046 - accuracy: 0.6205 - val_loss: 1.1907 - val_accuracy: 0.6581\n",
      "Epoch 17/30\n",
      "269/269 [==============================] - 444s 2s/step - loss: 0.7918 - accuracy: 0.6276 - val_loss: 1.2129 - val_accuracy: 0.6798\n",
      "Epoch 18/30\n",
      "269/269 [==============================] - 109s 406ms/step - loss: 0.7814 - accuracy: 0.6232 - val_loss: 1.1101 - val_accuracy: 0.6774\n",
      "Epoch 19/30\n",
      "269/269 [==============================] - 111s 411ms/step - loss: 0.7748 - accuracy: 0.6272 - val_loss: 1.4136 - val_accuracy: 0.6909\n",
      "Epoch 20/30\n",
      "269/269 [==============================] - 125s 465ms/step - loss: 0.7687 - accuracy: 0.6278 - val_loss: 1.6437 - val_accuracy: 0.6933\n",
      "Epoch 21/30\n",
      "269/269 [==============================] - 112s 415ms/step - loss: 0.7686 - accuracy: 0.6292 - val_loss: 1.6754 - val_accuracy: 0.6798\n",
      "Epoch 22/30\n",
      "269/269 [==============================] - 1774s 7s/step - loss: 0.7674 - accuracy: 0.6341 - val_loss: 1.2348 - val_accuracy: 0.6850\n",
      "Epoch 23/30\n",
      "269/269 [==============================] - 49s 184ms/step - loss: 0.7621 - accuracy: 0.6270 - val_loss: 1.4985 - val_accuracy: 0.6886\n",
      "Epoch 24/30\n",
      "269/269 [==============================] - 44s 164ms/step - loss: 0.7604 - accuracy: 0.6345 - val_loss: 1.4579 - val_accuracy: 0.7284\n",
      "Epoch 25/30\n",
      "269/269 [==============================] - 42s 158ms/step - loss: 0.7574 - accuracy: 0.6327 - val_loss: 1.2983 - val_accuracy: 0.7085\n",
      "Epoch 26/30\n",
      "269/269 [==============================] - 43s 160ms/step - loss: 0.7540 - accuracy: 0.6305 - val_loss: 1.4275 - val_accuracy: 0.7208\n",
      "Epoch 27/30\n",
      "269/269 [==============================] - 44s 164ms/step - loss: 0.7438 - accuracy: 0.6351 - val_loss: 1.3438 - val_accuracy: 0.6381\n",
      "Epoch 28/30\n",
      "269/269 [==============================] - 42s 157ms/step - loss: 0.7453 - accuracy: 0.6347 - val_loss: 1.7868 - val_accuracy: 0.6762\n",
      "Epoch 29/30\n",
      "269/269 [==============================] - 42s 154ms/step - loss: 0.7452 - accuracy: 0.6339 - val_loss: 1.3941 - val_accuracy: 0.6833\n",
      "Epoch 30/30\n",
      "269/269 [==============================] - 42s 157ms/step - loss: 0.7444 - accuracy: 0.6374 - val_loss: 2.6059 - val_accuracy: 0.6205\n"
     ]
    },
    {
     "data": {
      "text/plain": [
       "<keras.src.callbacks.History at 0x1ec1c5caf90>"
      ]
     },
     "execution_count": 21,
     "metadata": {},
     "output_type": "execute_result"
    }
   ],
   "source": [
    "cnn.fit(x = training , validation_data = testing, epochs = 30)"
   ]
  },
  {
   "cell_type": "code",
   "execution_count": 22,
   "id": "4de3de9c",
   "metadata": {},
   "outputs": [],
   "source": [
    "#preprocess new image"
   ]
  },
  {
   "cell_type": "code",
   "execution_count": 23,
   "id": "28ef6a06",
   "metadata": {},
   "outputs": [
    {
     "name": "stdout",
     "output_type": "stream",
     "text": [
      "1/1 [==============================] - 0s 154ms/step\n"
     ]
    }
   ],
   "source": [
    "from keras.preprocessing import image\n",
    "test_image = image.load_img('test_image2.png', target_size = (64,64))\n",
    "test_image = image.img_to_array(test_image)\n",
    "test_image = np.expand_dims(test_image , axis = 0)\n",
    "result = cnn.predict(test_image)"
   ]
  },
  {
   "cell_type": "code",
   "execution_count": 24,
   "id": "074b6889",
   "metadata": {},
   "outputs": [
    {
     "data": {
      "text/plain": [
       "{'glioma': 0,\n",
       " 'glioma_tumor': 1,\n",
       " 'meningioma': 2,\n",
       " 'meningioma_tumor': 3,\n",
       " 'no_tumor': 4,\n",
       " 'notumor': 5,\n",
       " 'pituitary': 6,\n",
       " 'pituitary_tumor': 7}"
      ]
     },
     "execution_count": 24,
     "metadata": {},
     "output_type": "execute_result"
    }
   ],
   "source": [
    "training.class_indices"
   ]
  },
  {
   "cell_type": "code",
   "execution_count": 25,
   "id": "654d581a",
   "metadata": {},
   "outputs": [
    {
     "name": "stdout",
     "output_type": "stream",
     "text": [
      "[[0. 0. 0. 0. 0. 1. 0. 0.]]\n"
     ]
    }
   ],
   "source": [
    "print(result)"
   ]
  },
  {
   "cell_type": "code",
   "execution_count": 61,
   "id": "cf9d78f8",
   "metadata": {},
   "outputs": [
    {
     "name": "stdout",
     "output_type": "stream",
     "text": [
      "no_tumor\n"
     ]
    }
   ],
   "source": [
    "if result[0][0] == 1:\n",
    "    print('glioma')\n",
    "elif result[0][1] == 1:\n",
    "    print('glioma_tumor')\n",
    "elif result[0][2] == 1:\n",
    "    print('meningioma')\n",
    "elif result[0][3] == 1:\n",
    "    print('meningioma_tumor')\n",
    "elif result[0][4] == 1:\n",
    "    print('no_tumor)\n",
    "elif result[0][5] == 1:\n",
    "    print('notumor')\n",
    "elif result[0][6] == 1:\n",
    "    print('pituitary')\n",
    "elif result[0][7] == 1:\n",
    "    print('pituitary_tumor')\n",
    "          "
   ]
  },
  {
   "cell_type": "code",
   "execution_count": null,
   "id": "6d42a08e",
   "metadata": {},
   "outputs": [],
   "source": []
  }
 ],
 "metadata": {
  "kernelspec": {
   "display_name": "Python 3 (ipykernel)",
   "language": "python",
   "name": "python3"
  },
  "language_info": {
   "codemirror_mode": {
    "name": "ipython",
    "version": 3
   },
   "file_extension": ".py",
   "mimetype": "text/x-python",
   "name": "python",
   "nbconvert_exporter": "python",
   "pygments_lexer": "ipython3",
   "version": "3.11.5"
  }
 },
 "nbformat": 4,
 "nbformat_minor": 5
}
